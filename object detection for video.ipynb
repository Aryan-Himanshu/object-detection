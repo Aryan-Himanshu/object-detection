{
 "cells": [
  {
   "cell_type": "code",
   "execution_count": 1,
   "id": "f8fefea0-4f45-45df-b16c-56034517a269",
   "metadata": {},
   "outputs": [],
   "source": [
    "import cv2\n",
    "import matplotlib.pyplot as plt"
   ]
  },
  {
   "cell_type": "code",
   "execution_count": 2,
   "id": "9b5750fb-5ec3-4273-8901-5378bcd75a85",
   "metadata": {},
   "outputs": [],
   "source": [
    "config_file = 'ssd_mobilenet_v3_large_coco_2020_01_14.pbtxt'\n",
    "frozen_model = 'frozen_inference_graph.pb'"
   ]
  },
  {
   "cell_type": "code",
   "execution_count": 3,
   "id": "e190af08-748e-45c9-a4ec-19b8bbfedab9",
   "metadata": {},
   "outputs": [],
   "source": [
    "model =cv2.dnn_DetectionModel(frozen_model, config_file)"
   ]
  },
  {
   "cell_type": "code",
   "execution_count": 4,
   "id": "a598f234-cd26-41ef-84e5-a89af3c38eb4",
   "metadata": {},
   "outputs": [],
   "source": [
    "classLabels = []\n",
    "file_name='labels.txt'\n",
    "with open(file_name, 'rt') as fpt:\n",
    "    classLabels = fpt.read().rstrip('\\n').split('\\n')"
   ]
  },
  {
   "cell_type": "code",
   "execution_count": 5,
   "id": "96842b95-77e9-4580-90cd-8b373cf85bdb",
   "metadata": {},
   "outputs": [
    {
     "name": "stdout",
     "output_type": "stream",
     "text": [
      "['person', 'bicycle', 'car', 'motorbike', 'aeroplane', 'bus', 'train', 'truck', 'boat', 'traffic light', 'fire hydrant', 'stop sign', 'parking meter', 'bench', 'bird', 'cat', 'dog', 'horse', 'sheep', 'cow', 'elephant', 'bear', 'zebra', 'giraffe', 'backpack', 'umbrella', 'handbag', 'tie', 'suitcase', 'frisbee', 'skis', 'snowboard', 'sports ball', 'kite', 'baseball bat', 'baseball glove', 'skateboard', 'surfboard', 'tennis racket', 'bottle', 'wine glass', 'cup', 'fork', 'knife', 'spoon', 'bowl', 'banana', 'apple', 'sandwich', 'orange', 'broccoli', 'carrot', 'hot dog', 'pizza', 'donut', 'cake', 'chair', 'sofa', 'pottedplant', 'bed', 'diningtable', 'toilet', 'tvmonitor', 'laptop', 'mouse', 'remote', 'keyboard', 'cell phone', 'microwave', 'oven', 'toaster', 'sink', 'refrigerator', 'book', 'clock', 'vase', 'scissors', 'teddy bear', 'hair drier', 'toothbrush']\n"
     ]
    }
   ],
   "source": [
    "print(classLabels)"
   ]
  },
  {
   "cell_type": "code",
   "execution_count": 6,
   "id": "06b21007-1223-4e94-9862-808fa88b05dc",
   "metadata": {},
   "outputs": [
    {
     "name": "stdout",
     "output_type": "stream",
     "text": [
      "80\n"
     ]
    }
   ],
   "source": [
    "print(len(classLabels))"
   ]
  },
  {
   "cell_type": "code",
   "execution_count": 7,
   "id": "691d0eb0-b8d3-4ad4-93e9-57a458fcd93a",
   "metadata": {},
   "outputs": [
    {
     "data": {
      "text/plain": [
       "< cv2.dnn.Model 0000028E933F4AD0>"
      ]
     },
     "execution_count": 7,
     "metadata": {},
     "output_type": "execute_result"
    }
   ],
   "source": [
    "model.setInputSize(320,320)\n",
    "model.setInputScale(1.0/127.5)\n",
    "model.setInputMean((127.5,127,5,127.5))\n",
    "model.setInputSwapRB(True)"
   ]
  },
  {
   "cell_type": "code",
   "execution_count": 8,
   "id": "bfdf9402-f3ff-4b3a-becd-e15cf4e039e3",
   "metadata": {},
   "outputs": [
    {
     "name": "stdout",
     "output_type": "stream",
     "text": [
      "[4 4 4 1 4 4]\n",
      "[4 4 4 1 4]\n",
      "[4 4 4 1 4 1 3]\n",
      "[4 4 4 1 4 3]\n",
      "[4 4 4 1 3 1 4 4]\n",
      "[4 4 4 1 4 3 4 1]\n",
      "[4 4 1 4 1 4 3 4]\n",
      "[4 4 4 4 1 3 1]\n",
      "[4 4 1 4 4 3]\n",
      "[4 1 4 1 4 4 3 3 1 3]\n",
      "[4 1 1 4 4 3 4]\n",
      "[4 4 1 4 1 4 3]\n",
      "[4 4 4 4 1 1]\n",
      "[4 4 4 4 1 4]\n",
      "[4 4 3 4 1 4 3]\n",
      "[4 4 4 3 4 1 3]\n",
      "[4 4 1 3 3 4 1]\n",
      "[4 4 1 4]\n",
      "[4 4 3 1 4]\n",
      "[4 4 3 1 4]\n",
      "[4 4 4 1 3 1 4]\n",
      "[4 4 3 4 1 1 4]\n",
      "[4 4 3 1 4 3 1 4]\n",
      "[4 4 1 3 3]\n",
      "[4 4 3 1 3 4]\n",
      "[4 4 1 3 3 4]\n",
      "[4 4 3 1 3 4]\n",
      "[4 4 1 3 1 4 4]\n",
      "[4 4 1 3 1 4]\n",
      "[4 4 1 3 4]\n",
      "[4 4 3 4 1 1]\n",
      "[4 4 4 3 1]\n",
      "[4 4 4 3 1 1 4]\n",
      "[4 4 4 1 3 1]\n",
      "[4 4 4 1 3 1]\n",
      "[4 4 4 1]\n",
      "[4 4 4 1 3]\n",
      "[4 4 4 1 3]\n",
      "[4 4 4]\n",
      "[4 4 4 3]\n",
      "[4 4 4 3 4]\n",
      "[4 4 4 4]\n",
      "[4 4 4]\n",
      "[4 4 4 4]\n",
      "[4 4 4 4]\n",
      "[4 4 4 4]\n",
      "[4 4 4]\n",
      "[4 4 4 4]\n",
      "[4 4 4 3 4]\n",
      "[4 4 4 3 4]\n",
      "[4 4 4 4 3]\n",
      "[4 4 4 3]\n",
      "[4 4 4 3 4]\n",
      "[4 4 4]\n",
      "[4 4 4 4]\n",
      "[4 4 4 4 4]\n",
      "[4 4 3 4 4 4]\n",
      "[4 4 4 4 4]\n",
      "[4 4 4 4 4 4 3]\n",
      "[4 4 4 4 4 3]\n",
      "[4 4 4 4 4]\n",
      "[4 4 4 4 4]\n",
      "[4 4 4 4 4 1]\n",
      "[4 4 4 4 4 1]\n",
      "[4 4 4 4 4 1]\n",
      "[4 4 1 4 4 4]\n",
      "[4 4 4 1 4 4]\n",
      "[4 4 4 1 4 4]\n",
      "[4 4 4 1 4 4 1]\n",
      "[4 1 4 4 1 4 4]\n",
      "[4 4 4 4 1]\n",
      "[4 1 4 4 4 1]\n",
      "[4 1 1 4 4 4]\n",
      "[4 1 1 4 4 4]\n",
      "[4 1 1 4 4 4]\n",
      "[1 4 1 4 4 4]\n",
      "[4 1 4 1 3 4]\n",
      "[1 4 4 1 3]\n",
      "[1 4 4 1 3]\n",
      "[1 4 4 3 1]\n",
      "[4 1 4 1 3]\n",
      "[1 4 4]\n",
      "[4 1 4 1]\n",
      "[4 1 4 1 3]\n",
      "[4 1 4 1 3]\n",
      "[4 1 4 1 4]\n",
      "[4 1 4 1 4 4]\n",
      "[4 1 4 1 4]\n",
      "[4 1 4 3 1 4 4 3]\n",
      "[4 1 4 3 4 1 3]\n",
      "[4 1 4 3 4 1 3]\n",
      "[4 1 4 3 4 1 3]\n",
      "[4 1 4 3 4 1 3]\n"
     ]
    },
    {
     "ename": "KeyboardInterrupt",
     "evalue": "",
     "output_type": "error",
     "traceback": [
      "\u001b[31m---------------------------------------------------------------------------\u001b[39m",
      "\u001b[31mKeyboardInterrupt\u001b[39m                         Traceback (most recent call last)",
      "\u001b[36mCell\u001b[39m\u001b[36m \u001b[39m\u001b[32mIn[8]\u001b[39m\u001b[32m, line 13\u001b[39m\n\u001b[32m     10\u001b[39m \u001b[38;5;28;01mwhile\u001b[39;00m \u001b[38;5;28;01mTrue\u001b[39;00m:\n\u001b[32m     11\u001b[39m     ret, frame = cap.read()\n\u001b[32m---> \u001b[39m\u001b[32m13\u001b[39m     ClassIndex, confidece, bbox = \u001b[43mmodel\u001b[49m\u001b[43m.\u001b[49m\u001b[43mdetect\u001b[49m\u001b[43m(\u001b[49m\u001b[43mframe\u001b[49m\u001b[43m,\u001b[49m\u001b[43m \u001b[49m\u001b[43mconfThreshold\u001b[49m\u001b[43m \u001b[49m\u001b[43m=\u001b[49m\u001b[43m \u001b[49m\u001b[32;43m0.55\u001b[39;49m\u001b[43m)\u001b[49m\n\u001b[32m     15\u001b[39m     \u001b[38;5;28mprint\u001b[39m(ClassIndex)\n\u001b[32m     17\u001b[39m     \u001b[38;5;28;01mif\u001b[39;00m(\u001b[38;5;28mlen\u001b[39m(ClassIndex)!=\u001b[32m0\u001b[39m):\n",
      "\u001b[31mKeyboardInterrupt\u001b[39m: "
     ]
    }
   ],
   "source": [
    "cap = cv2.VideoCapture('vid3.mp4')\n",
    "if not cap.isOpened():\n",
    "    cap = cv2.VideoCapture(0)\n",
    "if not cap.isOpened():\n",
    "    raise IOError('Can,t open the video')\n",
    "\n",
    "font_scale =3\n",
    "font = cv2.FONT_HERSHEY_PLAIN\n",
    "\n",
    "while True:\n",
    "    ret, frame = cap.read()\n",
    "\n",
    "    ClassIndex, confidece, bbox = model.detect(frame, confThreshold = 0.55)\n",
    "\n",
    "    print(ClassIndex)\n",
    "\n",
    "    if(len(ClassIndex)!=0):\n",
    "        for ClassInd, conf, boxes in zip(ClassIndex.flatten(), confidece.flatten(), bbox):\n",
    "            if (ClassInd<=80):\n",
    "                 cv2.rectangle(frame, boxes,(255,0,0),2)\n",
    "                 cv2.putText(frame, classLabels[ClassInd-1], (boxes[0]+10, boxes[1]+40), font, fontScale = font_scale, color=(0,255,0), thickness=3)\n",
    "    cv2.imshow('objdetection by aryan', frame)\n",
    "    if cv2.waitKey(2) & 0xff == ord('q'):\n",
    "        break\n",
    "cap.release()\n",
    "cv2.destroyalLLWindows\n"
   ]
  },
  {
   "cell_type": "code",
   "execution_count": null,
   "id": "41bccd1e-eb19-4604-b599-a91a5b9cacbc",
   "metadata": {},
   "outputs": [],
   "source": []
  }
 ],
 "metadata": {
  "kernelspec": {
   "display_name": "Python 3 (ipykernel)",
   "language": "python",
   "name": "python3"
  },
  "language_info": {
   "codemirror_mode": {
    "name": "ipython",
    "version": 3
   },
   "file_extension": ".py",
   "mimetype": "text/x-python",
   "name": "python",
   "nbconvert_exporter": "python",
   "pygments_lexer": "ipython3",
   "version": "3.13.3"
  }
 },
 "nbformat": 4,
 "nbformat_minor": 5
}
